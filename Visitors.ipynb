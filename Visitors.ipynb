{
 "cells": [
  {
   "cell_type": "markdown",
   "metadata": {},
   "source": [
    "# Recruit Restaurant Visitor Forecasting"
   ]
  },
  {
   "cell_type": "markdown",
   "metadata": {},
   "source": [
    "## Part 1. Organize the clean up the data"
   ]
  },
  {
   "cell_type": "markdown",
   "metadata": {},
   "source": [
    "#### The original files includes 'air_reserve.csv', 'air_store_info.csv', 'air_visit_data.csv', 'date_info.csv', 'hpg_reserve.csv', 'hpg_store_info.csv', 'sample_submission.csv', 'store_id_relation.csv', need to predict the visitors in the sample_submission based on the information provided by other files.\n",
    "#### First thing is to import all the file and figure out all the useful information needed for the prediction."
   ]
  },
  {
   "cell_type": "code",
   "execution_count": 95,
   "metadata": {
    "collapsed": false
   },
   "outputs": [
    {
     "name": "stdout",
     "output_type": "stream",
     "text": [
      "['air_reserve.csv', 'air_store_info.csv', 'air_visit_data.csv', 'date_info.csv', 'hpg_reserve.csv', 'hpg_store_info.csv', 'sample_submission.csv', 'store_id_relation.csv']\n"
     ]
    }
   ],
   "source": [
    "import glob\n",
    "\n",
    "files = glob.glob(\"*.csv\")\n",
    "\n",
    "print(files)"
   ]
  },
  {
   "cell_type": "code",
   "execution_count": 96,
   "metadata": {
    "collapsed": false
   },
   "outputs": [
    {
     "name": "stdout",
     "output_type": "stream",
     "text": [
      "dict_keys(['air_store_info', 'sample_submission', 'air_visit_data', 'store_id_relation', 'air_reserve', 'date_info', 'hpg_reserve', 'hpg_store_info'])\n"
     ]
    }
   ],
   "source": [
    "import pandas as pd\n",
    "\n",
    "df = {}\n",
    "\n",
    "for filename in files:\n",
    "    df[filename.replace('.csv', '')] = pd.read_csv(filename)\n",
    "\n",
    "print(df.keys())\n",
    "    "
   ]
  },
  {
   "cell_type": "code",
   "execution_count": 97,
   "metadata": {
    "collapsed": false
   },
   "outputs": [
    {
     "name": "stdout",
     "output_type": "stream",
     "text": [
      "150\n"
     ]
    },
    {
     "data": {
      "text/html": [
       "<div>\n",
       "<style scoped>\n",
       "    .dataframe tbody tr th:only-of-type {\n",
       "        vertical-align: middle;\n",
       "    }\n",
       "\n",
       "    .dataframe tbody tr th {\n",
       "        vertical-align: top;\n",
       "    }\n",
       "\n",
       "    .dataframe thead th {\n",
       "        text-align: right;\n",
       "    }\n",
       "</style>\n",
       "<table border=\"1\" class=\"dataframe\">\n",
       "  <thead>\n",
       "    <tr style=\"text-align: right;\">\n",
       "      <th></th>\n",
       "      <th>air_store_id</th>\n",
       "      <th>hpg_store_id</th>\n",
       "    </tr>\n",
       "  </thead>\n",
       "  <tbody>\n",
       "    <tr>\n",
       "      <th>0</th>\n",
       "      <td>air_63b13c56b7201bd9</td>\n",
       "      <td>hpg_4bc649e72e2a239a</td>\n",
       "    </tr>\n",
       "    <tr>\n",
       "      <th>1</th>\n",
       "      <td>air_a24bf50c3e90d583</td>\n",
       "      <td>hpg_c34b496d0305a809</td>\n",
       "    </tr>\n",
       "    <tr>\n",
       "      <th>2</th>\n",
       "      <td>air_c7f78b4f3cba33ff</td>\n",
       "      <td>hpg_cd8ae0d9bbd58ff9</td>\n",
       "    </tr>\n",
       "    <tr>\n",
       "      <th>3</th>\n",
       "      <td>air_947eb2cae4f3e8f2</td>\n",
       "      <td>hpg_de24ea49dc25d6b8</td>\n",
       "    </tr>\n",
       "    <tr>\n",
       "      <th>4</th>\n",
       "      <td>air_965b2e0cf4119003</td>\n",
       "      <td>hpg_653238a84804d8e7</td>\n",
       "    </tr>\n",
       "  </tbody>\n",
       "</table>\n",
       "</div>"
      ],
      "text/plain": [
       "           air_store_id          hpg_store_id\n",
       "0  air_63b13c56b7201bd9  hpg_4bc649e72e2a239a\n",
       "1  air_a24bf50c3e90d583  hpg_c34b496d0305a809\n",
       "2  air_c7f78b4f3cba33ff  hpg_cd8ae0d9bbd58ff9\n",
       "3  air_947eb2cae4f3e8f2  hpg_de24ea49dc25d6b8\n",
       "4  air_965b2e0cf4119003  hpg_653238a84804d8e7"
      ]
     },
     "execution_count": 97,
     "metadata": {},
     "output_type": "execute_result"
    }
   ],
   "source": [
    "# Check the length and information in 'store_id_relation'\n",
    "\n",
    "print(len(pd.unique(df['store_id_relation']['air_store_id'])))\n",
    "df['store_id_relation'].head()"
   ]
  },
  {
   "cell_type": "code",
   "execution_count": 98,
   "metadata": {
    "collapsed": false
   },
   "outputs": [
    {
     "name": "stdout",
     "output_type": "stream",
     "text": [
      "314\n"
     ]
    },
    {
     "data": {
      "text/html": [
       "<div>\n",
       "<style scoped>\n",
       "    .dataframe tbody tr th:only-of-type {\n",
       "        vertical-align: middle;\n",
       "    }\n",
       "\n",
       "    .dataframe tbody tr th {\n",
       "        vertical-align: top;\n",
       "    }\n",
       "\n",
       "    .dataframe thead th {\n",
       "        text-align: right;\n",
       "    }\n",
       "</style>\n",
       "<table border=\"1\" class=\"dataframe\">\n",
       "  <thead>\n",
       "    <tr style=\"text-align: right;\">\n",
       "      <th></th>\n",
       "      <th>air_store_id</th>\n",
       "      <th>visit_datetime</th>\n",
       "      <th>reserve_datetime</th>\n",
       "      <th>reserve_visitors</th>\n",
       "    </tr>\n",
       "  </thead>\n",
       "  <tbody>\n",
       "    <tr>\n",
       "      <th>0</th>\n",
       "      <td>air_877f79706adbfb06</td>\n",
       "      <td>2016-01-01 19:00:00</td>\n",
       "      <td>2016-01-01 16:00:00</td>\n",
       "      <td>1</td>\n",
       "    </tr>\n",
       "    <tr>\n",
       "      <th>1</th>\n",
       "      <td>air_db4b38ebe7a7ceff</td>\n",
       "      <td>2016-01-01 19:00:00</td>\n",
       "      <td>2016-01-01 19:00:00</td>\n",
       "      <td>3</td>\n",
       "    </tr>\n",
       "    <tr>\n",
       "      <th>2</th>\n",
       "      <td>air_db4b38ebe7a7ceff</td>\n",
       "      <td>2016-01-01 19:00:00</td>\n",
       "      <td>2016-01-01 19:00:00</td>\n",
       "      <td>6</td>\n",
       "    </tr>\n",
       "    <tr>\n",
       "      <th>3</th>\n",
       "      <td>air_877f79706adbfb06</td>\n",
       "      <td>2016-01-01 20:00:00</td>\n",
       "      <td>2016-01-01 16:00:00</td>\n",
       "      <td>2</td>\n",
       "    </tr>\n",
       "    <tr>\n",
       "      <th>4</th>\n",
       "      <td>air_db80363d35f10926</td>\n",
       "      <td>2016-01-01 20:00:00</td>\n",
       "      <td>2016-01-01 01:00:00</td>\n",
       "      <td>5</td>\n",
       "    </tr>\n",
       "  </tbody>\n",
       "</table>\n",
       "</div>"
      ],
      "text/plain": [
       "           air_store_id       visit_datetime     reserve_datetime  \\\n",
       "0  air_877f79706adbfb06  2016-01-01 19:00:00  2016-01-01 16:00:00   \n",
       "1  air_db4b38ebe7a7ceff  2016-01-01 19:00:00  2016-01-01 19:00:00   \n",
       "2  air_db4b38ebe7a7ceff  2016-01-01 19:00:00  2016-01-01 19:00:00   \n",
       "3  air_877f79706adbfb06  2016-01-01 20:00:00  2016-01-01 16:00:00   \n",
       "4  air_db80363d35f10926  2016-01-01 20:00:00  2016-01-01 01:00:00   \n",
       "\n",
       "   reserve_visitors  \n",
       "0                 1  \n",
       "1                 3  \n",
       "2                 6  \n",
       "3                 2  \n",
       "4                 5  "
      ]
     },
     "execution_count": 98,
     "metadata": {},
     "output_type": "execute_result"
    }
   ],
   "source": [
    "# Check the number of 'air_store_id' in 'air_reserve'\n",
    "\n",
    "print(len(pd.unique(df['air_reserve']['air_store_id'])))\n",
    "df['air_reserve'].head()"
   ]
  },
  {
   "cell_type": "code",
   "execution_count": 99,
   "metadata": {
    "collapsed": false
   },
   "outputs": [
    {
     "name": "stdout",
     "output_type": "stream",
     "text": [
      "829\n"
     ]
    },
    {
     "data": {
      "text/html": [
       "<div>\n",
       "<style scoped>\n",
       "    .dataframe tbody tr th:only-of-type {\n",
       "        vertical-align: middle;\n",
       "    }\n",
       "\n",
       "    .dataframe tbody tr th {\n",
       "        vertical-align: top;\n",
       "    }\n",
       "\n",
       "    .dataframe thead th {\n",
       "        text-align: right;\n",
       "    }\n",
       "</style>\n",
       "<table border=\"1\" class=\"dataframe\">\n",
       "  <thead>\n",
       "    <tr style=\"text-align: right;\">\n",
       "      <th></th>\n",
       "      <th>air_store_id</th>\n",
       "      <th>air_genre_name</th>\n",
       "      <th>air_area_name</th>\n",
       "      <th>latitude</th>\n",
       "      <th>longitude</th>\n",
       "    </tr>\n",
       "  </thead>\n",
       "  <tbody>\n",
       "    <tr>\n",
       "      <th>0</th>\n",
       "      <td>air_0f0cdeee6c9bf3d7</td>\n",
       "      <td>Italian/French</td>\n",
       "      <td>Hyōgo-ken Kōbe-shi Kumoidōri</td>\n",
       "      <td>34.695124</td>\n",
       "      <td>135.197852</td>\n",
       "    </tr>\n",
       "    <tr>\n",
       "      <th>1</th>\n",
       "      <td>air_7cc17a324ae5c7dc</td>\n",
       "      <td>Italian/French</td>\n",
       "      <td>Hyōgo-ken Kōbe-shi Kumoidōri</td>\n",
       "      <td>34.695124</td>\n",
       "      <td>135.197852</td>\n",
       "    </tr>\n",
       "    <tr>\n",
       "      <th>2</th>\n",
       "      <td>air_fee8dcf4d619598e</td>\n",
       "      <td>Italian/French</td>\n",
       "      <td>Hyōgo-ken Kōbe-shi Kumoidōri</td>\n",
       "      <td>34.695124</td>\n",
       "      <td>135.197852</td>\n",
       "    </tr>\n",
       "    <tr>\n",
       "      <th>3</th>\n",
       "      <td>air_a17f0778617c76e2</td>\n",
       "      <td>Italian/French</td>\n",
       "      <td>Hyōgo-ken Kōbe-shi Kumoidōri</td>\n",
       "      <td>34.695124</td>\n",
       "      <td>135.197852</td>\n",
       "    </tr>\n",
       "    <tr>\n",
       "      <th>4</th>\n",
       "      <td>air_83db5aff8f50478e</td>\n",
       "      <td>Italian/French</td>\n",
       "      <td>Tōkyō-to Minato-ku Shibakōen</td>\n",
       "      <td>35.658068</td>\n",
       "      <td>139.751599</td>\n",
       "    </tr>\n",
       "  </tbody>\n",
       "</table>\n",
       "</div>"
      ],
      "text/plain": [
       "           air_store_id  air_genre_name                 air_area_name  \\\n",
       "0  air_0f0cdeee6c9bf3d7  Italian/French  Hyōgo-ken Kōbe-shi Kumoidōri   \n",
       "1  air_7cc17a324ae5c7dc  Italian/French  Hyōgo-ken Kōbe-shi Kumoidōri   \n",
       "2  air_fee8dcf4d619598e  Italian/French  Hyōgo-ken Kōbe-shi Kumoidōri   \n",
       "3  air_a17f0778617c76e2  Italian/French  Hyōgo-ken Kōbe-shi Kumoidōri   \n",
       "4  air_83db5aff8f50478e  Italian/French  Tōkyō-to Minato-ku Shibakōen   \n",
       "\n",
       "    latitude   longitude  \n",
       "0  34.695124  135.197852  \n",
       "1  34.695124  135.197852  \n",
       "2  34.695124  135.197852  \n",
       "3  34.695124  135.197852  \n",
       "4  35.658068  139.751599  "
      ]
     },
     "execution_count": 99,
     "metadata": {},
     "output_type": "execute_result"
    }
   ],
   "source": [
    "# Check the length and information of 'air_store_info'\n",
    "\n",
    "print(len(df['air_store_info']))\n",
    "df['air_store_info'].head()"
   ]
  },
  {
   "cell_type": "code",
   "execution_count": 100,
   "metadata": {
    "collapsed": false
   },
   "outputs": [
    {
     "name": "stdout",
     "output_type": "stream",
     "text": [
      "4690\n"
     ]
    },
    {
     "data": {
      "text/html": [
       "<div>\n",
       "<style scoped>\n",
       "    .dataframe tbody tr th:only-of-type {\n",
       "        vertical-align: middle;\n",
       "    }\n",
       "\n",
       "    .dataframe tbody tr th {\n",
       "        vertical-align: top;\n",
       "    }\n",
       "\n",
       "    .dataframe thead th {\n",
       "        text-align: right;\n",
       "    }\n",
       "</style>\n",
       "<table border=\"1\" class=\"dataframe\">\n",
       "  <thead>\n",
       "    <tr style=\"text-align: right;\">\n",
       "      <th></th>\n",
       "      <th>hpg_store_id</th>\n",
       "      <th>hpg_genre_name</th>\n",
       "      <th>hpg_area_name</th>\n",
       "      <th>latitude</th>\n",
       "      <th>longitude</th>\n",
       "    </tr>\n",
       "  </thead>\n",
       "  <tbody>\n",
       "    <tr>\n",
       "      <th>0</th>\n",
       "      <td>hpg_6622b62385aec8bf</td>\n",
       "      <td>Japanese style</td>\n",
       "      <td>Tōkyō-to Setagaya-ku Taishidō</td>\n",
       "      <td>35.643675</td>\n",
       "      <td>139.668221</td>\n",
       "    </tr>\n",
       "    <tr>\n",
       "      <th>1</th>\n",
       "      <td>hpg_e9e068dd49c5fa00</td>\n",
       "      <td>Japanese style</td>\n",
       "      <td>Tōkyō-to Setagaya-ku Taishidō</td>\n",
       "      <td>35.643675</td>\n",
       "      <td>139.668221</td>\n",
       "    </tr>\n",
       "    <tr>\n",
       "      <th>2</th>\n",
       "      <td>hpg_2976f7acb4b3a3bc</td>\n",
       "      <td>Japanese style</td>\n",
       "      <td>Tōkyō-to Setagaya-ku Taishidō</td>\n",
       "      <td>35.643675</td>\n",
       "      <td>139.668221</td>\n",
       "    </tr>\n",
       "    <tr>\n",
       "      <th>3</th>\n",
       "      <td>hpg_e51a522e098f024c</td>\n",
       "      <td>Japanese style</td>\n",
       "      <td>Tōkyō-to Setagaya-ku Taishidō</td>\n",
       "      <td>35.643675</td>\n",
       "      <td>139.668221</td>\n",
       "    </tr>\n",
       "    <tr>\n",
       "      <th>4</th>\n",
       "      <td>hpg_e3d0e1519894f275</td>\n",
       "      <td>Japanese style</td>\n",
       "      <td>Tōkyō-to Setagaya-ku Taishidō</td>\n",
       "      <td>35.643675</td>\n",
       "      <td>139.668221</td>\n",
       "    </tr>\n",
       "  </tbody>\n",
       "</table>\n",
       "</div>"
      ],
      "text/plain": [
       "           hpg_store_id  hpg_genre_name                  hpg_area_name  \\\n",
       "0  hpg_6622b62385aec8bf  Japanese style  Tōkyō-to Setagaya-ku Taishidō   \n",
       "1  hpg_e9e068dd49c5fa00  Japanese style  Tōkyō-to Setagaya-ku Taishidō   \n",
       "2  hpg_2976f7acb4b3a3bc  Japanese style  Tōkyō-to Setagaya-ku Taishidō   \n",
       "3  hpg_e51a522e098f024c  Japanese style  Tōkyō-to Setagaya-ku Taishidō   \n",
       "4  hpg_e3d0e1519894f275  Japanese style  Tōkyō-to Setagaya-ku Taishidō   \n",
       "\n",
       "    latitude   longitude  \n",
       "0  35.643675  139.668221  \n",
       "1  35.643675  139.668221  \n",
       "2  35.643675  139.668221  \n",
       "3  35.643675  139.668221  \n",
       "4  35.643675  139.668221  "
      ]
     },
     "execution_count": 100,
     "metadata": {},
     "output_type": "execute_result"
    }
   ],
   "source": [
    "# Check the length and information of 'hpg_store_info'\n",
    "\n",
    "print(len(df['hpg_store_info']))\n",
    "df['hpg_store_info'].head()"
   ]
  },
  {
   "cell_type": "code",
   "execution_count": 101,
   "metadata": {
    "collapsed": false
   },
   "outputs": [
    {
     "data": {
      "text/html": [
       "<div>\n",
       "<style scoped>\n",
       "    .dataframe tbody tr th:only-of-type {\n",
       "        vertical-align: middle;\n",
       "    }\n",
       "\n",
       "    .dataframe tbody tr th {\n",
       "        vertical-align: top;\n",
       "    }\n",
       "\n",
       "    .dataframe thead th {\n",
       "        text-align: right;\n",
       "    }\n",
       "</style>\n",
       "<table border=\"1\" class=\"dataframe\">\n",
       "  <thead>\n",
       "    <tr style=\"text-align: right;\">\n",
       "      <th></th>\n",
       "      <th>id</th>\n",
       "      <th>visitors</th>\n",
       "    </tr>\n",
       "  </thead>\n",
       "  <tbody>\n",
       "    <tr>\n",
       "      <th>0</th>\n",
       "      <td>air_00a91d42b08b08d9_2017-04-23</td>\n",
       "      <td>0</td>\n",
       "    </tr>\n",
       "    <tr>\n",
       "      <th>1</th>\n",
       "      <td>air_00a91d42b08b08d9_2017-04-24</td>\n",
       "      <td>0</td>\n",
       "    </tr>\n",
       "    <tr>\n",
       "      <th>2</th>\n",
       "      <td>air_00a91d42b08b08d9_2017-04-25</td>\n",
       "      <td>0</td>\n",
       "    </tr>\n",
       "    <tr>\n",
       "      <th>3</th>\n",
       "      <td>air_00a91d42b08b08d9_2017-04-26</td>\n",
       "      <td>0</td>\n",
       "    </tr>\n",
       "    <tr>\n",
       "      <th>4</th>\n",
       "      <td>air_00a91d42b08b08d9_2017-04-27</td>\n",
       "      <td>0</td>\n",
       "    </tr>\n",
       "  </tbody>\n",
       "</table>\n",
       "</div>"
      ],
      "text/plain": [
       "                                id  visitors\n",
       "0  air_00a91d42b08b08d9_2017-04-23         0\n",
       "1  air_00a91d42b08b08d9_2017-04-24         0\n",
       "2  air_00a91d42b08b08d9_2017-04-25         0\n",
       "3  air_00a91d42b08b08d9_2017-04-26         0\n",
       "4  air_00a91d42b08b08d9_2017-04-27         0"
      ]
     },
     "execution_count": 101,
     "metadata": {},
     "output_type": "execute_result"
    }
   ],
   "source": [
    "# Check the format of 'sample_submission'\n",
    "\n",
    "df['sample_submission'].head()"
   ]
  },
  {
   "cell_type": "markdown",
   "metadata": {},
   "source": [
    "#### Because the sample submission has no reservation information, I decide not to use the reservation info from 'hpg_reserve' and 'air_reserve' for predicting the visitors.\n",
    "\n",
    "#### The sample submission only contained air_store_id, which could be provided by 'air_store_info' totally, so 'hpg_store_info' is not needed anymore.\n",
    "\n",
    "#### Finally the files needed for the prediction include 'air_store_info', 'air_visit_data' and 'date_info'.\n",
    "\n",
    "#### Below includes some of my operations with the reservation information, which are not useful anymore and will be commented out.\n"
   ]
  },
  {
   "cell_type": "code",
   "execution_count": 41,
   "metadata": {
    "collapsed": true
   },
   "outputs": [],
   "source": [
    "# Check if the 'air_store_info' contained all the 'air_store_id' needed for 'air_reserve'\n",
    "\"\"\"\n",
    "check_air_reserve = pd.Series(pd.unique(df['air_reserve']['air_store_id'])).isin(df['air_store_info']['air_store_id'])\n",
    "flag = True\n",
    "for i in check_air_reserve:\n",
    "    if i == False:\n",
    "        print('False is found')\n",
    "        flag = False\n",
    "if flag == True:\n",
    "    print('check successful, all the air_store_id in air_reserve could be found in air_store_info')\n",
    "    \n",
    "\"\"\""
   ]
  },
  {
   "cell_type": "code",
   "execution_count": 42,
   "metadata": {
    "collapsed": true
   },
   "outputs": [],
   "source": [
    "# Check if the 'air_store_info' contained all the 'air_store_id' needed for 'store_id_relation'\n",
    "# It turned out the 'air_store_info' contained all the infomation needed. The 'hpg_store_info' could be neglected.\n",
    "\n",
    "\"\"\"\n",
    "check_air_reserve = pd.Series(pd.unique(df['store_id_relation']['air_store_id'])).isin(df['air_store_info']['air_store_id'])\n",
    "flag = True\n",
    "for i in check_air_reserve:\n",
    "    if i == False:\n",
    "        print('False is found')\n",
    "        flag = False\n",
    "if flag == True:\n",
    "    print('check successful, all the air_store_id in store_id_relation could be found in air_store_info')\n",
    "\"\"\""
   ]
  },
  {
   "cell_type": "code",
   "execution_count": 43,
   "metadata": {
    "collapsed": true
   },
   "outputs": [],
   "source": [
    "\"\"\"\n",
    "hpg_reserve_merge = pd.merge(df['hpg_reserve'], df['store_id_relation'], how = 'left', on = 'hpg_store_id')\n",
    "air_reserve_on_hpg = hpg_reserve_merge.dropna(axis = 0).reset_index().drop(['hpg_store_id', 'index'], axis=1)\n",
    "total_air_reserve = pd.concat([air_reserve_on_hpg, df['air_reserve']]).reset_index().drop(['index'], axis = 1)\n",
    "print(len(df['air_reserve']))\n",
    "print(len(air_reserve_on_hpg))\n",
    "print(len(total_air_reserve))\n",
    "total_air_reserve.head()\n",
    "total_air_reserve['res_visit_datetime'] = pd.to_datetime(total_air_reserve['visit_datetime'])\n",
    "total_air_reserve['reserve_datetime'] = pd.to_datetime(total_air_reserve['reserve_datetime'])\n",
    "total_air_reserve['visit_date'] = total_air_reserve['res_visit_datetime'].dt.date\n",
    "total_air_reserve['reserve_diff'] = total_air_reserve.apply(lambda a: (a['res_visit_datetime']- a['reserve_datetime']).days, axis=1)\n",
    "total_air_reserve.drop('visit_datetime',  axis = 1, inplace=True)\n",
    "total_air_reserve.drop('reserve_datetime',  axis = 1, inplace=True)\n",
    "total_air_reserve.drop('res_visit_datetime',  axis = 1, inplace=True)\n",
    "print(len(total_air_reserve))\n",
    "total_air_reserve.head()\n",
    "avg_reserv = total_air_reserve.groupby(['air_store_id','visit_date'],as_index=False).mean().reset_index()\n",
    "total_air_reserve = total_air_reserve.groupby(['air_store_id','visit_date'],as_index=False).sum().reset_index().drop(['reserve_diff', 'index'], axis = 1)\n",
    "total_air_reserve['reserve_diff'] = avg_reserv['reserve_diff']\n",
    "print(len(total_air_reserve))\n",
    "total_air_reserve.head()\n",
    "\"\"\""
   ]
  },
  {
   "cell_type": "code",
   "execution_count": 102,
   "metadata": {
    "collapsed": false
   },
   "outputs": [
    {
     "data": {
      "text/html": [
       "<div>\n",
       "<style scoped>\n",
       "    .dataframe tbody tr th:only-of-type {\n",
       "        vertical-align: middle;\n",
       "    }\n",
       "\n",
       "    .dataframe tbody tr th {\n",
       "        vertical-align: top;\n",
       "    }\n",
       "\n",
       "    .dataframe thead th {\n",
       "        text-align: right;\n",
       "    }\n",
       "</style>\n",
       "<table border=\"1\" class=\"dataframe\">\n",
       "  <thead>\n",
       "    <tr style=\"text-align: right;\">\n",
       "      <th></th>\n",
       "      <th>air_store_id</th>\n",
       "      <th>visit_date</th>\n",
       "      <th>visitors</th>\n",
       "      <th>visit_datetime</th>\n",
       "    </tr>\n",
       "  </thead>\n",
       "  <tbody>\n",
       "    <tr>\n",
       "      <th>0</th>\n",
       "      <td>air_ba937bf13d40fb24</td>\n",
       "      <td>2016-01-13</td>\n",
       "      <td>25</td>\n",
       "      <td>2016-01-13</td>\n",
       "    </tr>\n",
       "    <tr>\n",
       "      <th>1</th>\n",
       "      <td>air_ba937bf13d40fb24</td>\n",
       "      <td>2016-01-14</td>\n",
       "      <td>32</td>\n",
       "      <td>2016-01-14</td>\n",
       "    </tr>\n",
       "    <tr>\n",
       "      <th>2</th>\n",
       "      <td>air_ba937bf13d40fb24</td>\n",
       "      <td>2016-01-15</td>\n",
       "      <td>29</td>\n",
       "      <td>2016-01-15</td>\n",
       "    </tr>\n",
       "    <tr>\n",
       "      <th>3</th>\n",
       "      <td>air_ba937bf13d40fb24</td>\n",
       "      <td>2016-01-16</td>\n",
       "      <td>22</td>\n",
       "      <td>2016-01-16</td>\n",
       "    </tr>\n",
       "    <tr>\n",
       "      <th>4</th>\n",
       "      <td>air_ba937bf13d40fb24</td>\n",
       "      <td>2016-01-18</td>\n",
       "      <td>6</td>\n",
       "      <td>2016-01-18</td>\n",
       "    </tr>\n",
       "  </tbody>\n",
       "</table>\n",
       "</div>"
      ],
      "text/plain": [
       "           air_store_id  visit_date  visitors visit_datetime\n",
       "0  air_ba937bf13d40fb24  2016-01-13        25     2016-01-13\n",
       "1  air_ba937bf13d40fb24  2016-01-14        32     2016-01-14\n",
       "2  air_ba937bf13d40fb24  2016-01-15        29     2016-01-15\n",
       "3  air_ba937bf13d40fb24  2016-01-16        22     2016-01-16\n",
       "4  air_ba937bf13d40fb24  2016-01-18         6     2016-01-18"
      ]
     },
     "execution_count": 102,
     "metadata": {},
     "output_type": "execute_result"
    }
   ],
   "source": [
    "# Format the date information\n",
    "\n",
    "df['air_visit_data']['visit_datetime'] = pd.to_datetime(df['air_visit_data']['visit_date'])\n",
    "df['air_visit_data']['visit_date'] = df['air_visit_data']['visit_datetime'].dt.date\n",
    "df['air_visit_data'].head()"
   ]
  },
  {
   "cell_type": "code",
   "execution_count": 103,
   "metadata": {
    "collapsed": false
   },
   "outputs": [
    {
     "data": {
      "text/html": [
       "<div>\n",
       "<style scoped>\n",
       "    .dataframe tbody tr th:only-of-type {\n",
       "        vertical-align: middle;\n",
       "    }\n",
       "\n",
       "    .dataframe tbody tr th {\n",
       "        vertical-align: top;\n",
       "    }\n",
       "\n",
       "    .dataframe thead th {\n",
       "        text-align: right;\n",
       "    }\n",
       "</style>\n",
       "<table border=\"1\" class=\"dataframe\">\n",
       "  <thead>\n",
       "    <tr style=\"text-align: right;\">\n",
       "      <th></th>\n",
       "      <th>visitors</th>\n",
       "      <th>visit_datetime</th>\n",
       "      <th>air_store_id</th>\n",
       "      <th>visit_date</th>\n",
       "    </tr>\n",
       "  </thead>\n",
       "  <tbody>\n",
       "    <tr>\n",
       "      <th>0</th>\n",
       "      <td>0</td>\n",
       "      <td>2017-04-23</td>\n",
       "      <td>air_00a91d42b08b08d9</td>\n",
       "      <td>2017-04-23</td>\n",
       "    </tr>\n",
       "    <tr>\n",
       "      <th>1</th>\n",
       "      <td>0</td>\n",
       "      <td>2017-04-24</td>\n",
       "      <td>air_00a91d42b08b08d9</td>\n",
       "      <td>2017-04-24</td>\n",
       "    </tr>\n",
       "    <tr>\n",
       "      <th>2</th>\n",
       "      <td>0</td>\n",
       "      <td>2017-04-25</td>\n",
       "      <td>air_00a91d42b08b08d9</td>\n",
       "      <td>2017-04-25</td>\n",
       "    </tr>\n",
       "    <tr>\n",
       "      <th>3</th>\n",
       "      <td>0</td>\n",
       "      <td>2017-04-26</td>\n",
       "      <td>air_00a91d42b08b08d9</td>\n",
       "      <td>2017-04-26</td>\n",
       "    </tr>\n",
       "    <tr>\n",
       "      <th>4</th>\n",
       "      <td>0</td>\n",
       "      <td>2017-04-27</td>\n",
       "      <td>air_00a91d42b08b08d9</td>\n",
       "      <td>2017-04-27</td>\n",
       "    </tr>\n",
       "  </tbody>\n",
       "</table>\n",
       "</div>"
      ],
      "text/plain": [
       "   visitors visit_datetime          air_store_id  visit_date\n",
       "0         0     2017-04-23  air_00a91d42b08b08d9  2017-04-23\n",
       "1         0     2017-04-24  air_00a91d42b08b08d9  2017-04-24\n",
       "2         0     2017-04-25  air_00a91d42b08b08d9  2017-04-25\n",
       "3         0     2017-04-26  air_00a91d42b08b08d9  2017-04-26\n",
       "4         0     2017-04-27  air_00a91d42b08b08d9  2017-04-27"
      ]
     },
     "execution_count": 103,
     "metadata": {},
     "output_type": "execute_result"
    }
   ],
   "source": [
    "# Split the 'air_store_id' and 'visit_date' in sample_submission and format the visit_date \n",
    "\n",
    "df['sample_submission']['visit_datetime'] = df['sample_submission']['id'].map(lambda x: str(x).split('_')[2])\n",
    "df['sample_submission']['air_store_id'] = df['sample_submission']['id'].map(lambda x: '_'.join(x.split('_')[:2]))\n",
    "df['sample_submission']['visit_datetime'] = pd.to_datetime(df['sample_submission']['visit_datetime'])\n",
    "df['sample_submission']['visit_date'] = df['sample_submission']['visit_datetime'].dt.date\n",
    "df['sample_submission'].drop(['id'], axis = 1, inplace = True)\n",
    "df['sample_submission'].head()"
   ]
  },
  {
   "cell_type": "code",
   "execution_count": 104,
   "metadata": {
    "collapsed": false
   },
   "outputs": [
    {
     "name": "stdout",
     "output_type": "stream",
     "text": [
      "252108\n",
      "32019\n",
      "284127\n"
     ]
    },
    {
     "data": {
      "text/html": [
       "<div>\n",
       "<style scoped>\n",
       "    .dataframe tbody tr th:only-of-type {\n",
       "        vertical-align: middle;\n",
       "    }\n",
       "\n",
       "    .dataframe tbody tr th {\n",
       "        vertical-align: top;\n",
       "    }\n",
       "\n",
       "    .dataframe thead th {\n",
       "        text-align: right;\n",
       "    }\n",
       "</style>\n",
       "<table border=\"1\" class=\"dataframe\">\n",
       "  <thead>\n",
       "    <tr style=\"text-align: right;\">\n",
       "      <th></th>\n",
       "      <th>air_store_id</th>\n",
       "      <th>visit_date</th>\n",
       "      <th>visit_datetime</th>\n",
       "      <th>visitors</th>\n",
       "    </tr>\n",
       "  </thead>\n",
       "  <tbody>\n",
       "    <tr>\n",
       "      <th>0</th>\n",
       "      <td>air_ba937bf13d40fb24</td>\n",
       "      <td>2016-01-13</td>\n",
       "      <td>2016-01-13</td>\n",
       "      <td>25</td>\n",
       "    </tr>\n",
       "    <tr>\n",
       "      <th>1</th>\n",
       "      <td>air_ba937bf13d40fb24</td>\n",
       "      <td>2016-01-14</td>\n",
       "      <td>2016-01-14</td>\n",
       "      <td>32</td>\n",
       "    </tr>\n",
       "    <tr>\n",
       "      <th>2</th>\n",
       "      <td>air_ba937bf13d40fb24</td>\n",
       "      <td>2016-01-15</td>\n",
       "      <td>2016-01-15</td>\n",
       "      <td>29</td>\n",
       "    </tr>\n",
       "    <tr>\n",
       "      <th>3</th>\n",
       "      <td>air_ba937bf13d40fb24</td>\n",
       "      <td>2016-01-16</td>\n",
       "      <td>2016-01-16</td>\n",
       "      <td>22</td>\n",
       "    </tr>\n",
       "    <tr>\n",
       "      <th>4</th>\n",
       "      <td>air_ba937bf13d40fb24</td>\n",
       "      <td>2016-01-18</td>\n",
       "      <td>2016-01-18</td>\n",
       "      <td>6</td>\n",
       "    </tr>\n",
       "  </tbody>\n",
       "</table>\n",
       "</div>"
      ],
      "text/plain": [
       "           air_store_id  visit_date visit_datetime  visitors\n",
       "0  air_ba937bf13d40fb24  2016-01-13     2016-01-13        25\n",
       "1  air_ba937bf13d40fb24  2016-01-14     2016-01-14        32\n",
       "2  air_ba937bf13d40fb24  2016-01-15     2016-01-15        29\n",
       "3  air_ba937bf13d40fb24  2016-01-16     2016-01-16        22\n",
       "4  air_ba937bf13d40fb24  2016-01-18     2016-01-18         6"
      ]
     },
     "execution_count": 104,
     "metadata": {},
     "output_type": "execute_result"
    }
   ],
   "source": [
    "# Concatenate the 'air_visit_data' and 'sample_submission' into total_dataset, and check their length to confirm\n",
    "\n",
    "total_dataset = pd.concat([df['air_visit_data'], df['sample_submission']], axis = 0)\n",
    "print(len(df['air_visit_data']))\n",
    "print(len(df['sample_submission']))\n",
    "print(len(total_dataset))\n",
    "total_dataset.head()"
   ]
  },
  {
   "cell_type": "code",
   "execution_count": 105,
   "metadata": {
    "collapsed": false
   },
   "outputs": [
    {
     "data": {
      "text/html": [
       "<div>\n",
       "<style scoped>\n",
       "    .dataframe tbody tr th:only-of-type {\n",
       "        vertical-align: middle;\n",
       "    }\n",
       "\n",
       "    .dataframe tbody tr th {\n",
       "        vertical-align: top;\n",
       "    }\n",
       "\n",
       "    .dataframe thead th {\n",
       "        text-align: right;\n",
       "    }\n",
       "</style>\n",
       "<table border=\"1\" class=\"dataframe\">\n",
       "  <thead>\n",
       "    <tr style=\"text-align: right;\">\n",
       "      <th></th>\n",
       "      <th>day_of_week</th>\n",
       "      <th>holiday_flg</th>\n",
       "      <th>visit_date</th>\n",
       "    </tr>\n",
       "  </thead>\n",
       "  <tbody>\n",
       "    <tr>\n",
       "      <th>0</th>\n",
       "      <td>Friday</td>\n",
       "      <td>1</td>\n",
       "      <td>2016-01-01</td>\n",
       "    </tr>\n",
       "    <tr>\n",
       "      <th>1</th>\n",
       "      <td>Saturday</td>\n",
       "      <td>1</td>\n",
       "      <td>2016-01-02</td>\n",
       "    </tr>\n",
       "    <tr>\n",
       "      <th>2</th>\n",
       "      <td>Sunday</td>\n",
       "      <td>1</td>\n",
       "      <td>2016-01-03</td>\n",
       "    </tr>\n",
       "    <tr>\n",
       "      <th>3</th>\n",
       "      <td>Monday</td>\n",
       "      <td>0</td>\n",
       "      <td>2016-01-04</td>\n",
       "    </tr>\n",
       "    <tr>\n",
       "      <th>4</th>\n",
       "      <td>Tuesday</td>\n",
       "      <td>0</td>\n",
       "      <td>2016-01-05</td>\n",
       "    </tr>\n",
       "  </tbody>\n",
       "</table>\n",
       "</div>"
      ],
      "text/plain": [
       "  day_of_week  holiday_flg  visit_date\n",
       "0      Friday            1  2016-01-01\n",
       "1    Saturday            1  2016-01-02\n",
       "2      Sunday            1  2016-01-03\n",
       "3      Monday            0  2016-01-04\n",
       "4     Tuesday            0  2016-01-05"
      ]
     },
     "execution_count": 105,
     "metadata": {},
     "output_type": "execute_result"
    }
   ],
   "source": [
    "df['date_info']['calendar_date'] = pd.to_datetime(df['date_info']['calendar_date'])\n",
    "df['date_info']['visit_date'] = df['date_info']['calendar_date'].dt.date\n",
    "df['date_info'] = df['date_info'].drop(['calendar_date'], axis = 1)\n",
    "df['date_info'].head()"
   ]
  },
  {
   "cell_type": "code",
   "execution_count": 106,
   "metadata": {
    "collapsed": false
   },
   "outputs": [
    {
     "data": {
      "text/html": [
       "<div>\n",
       "<style scoped>\n",
       "    .dataframe tbody tr th:only-of-type {\n",
       "        vertical-align: middle;\n",
       "    }\n",
       "\n",
       "    .dataframe tbody tr th {\n",
       "        vertical-align: top;\n",
       "    }\n",
       "\n",
       "    .dataframe thead th {\n",
       "        text-align: right;\n",
       "    }\n",
       "</style>\n",
       "<table border=\"1\" class=\"dataframe\">\n",
       "  <thead>\n",
       "    <tr style=\"text-align: right;\">\n",
       "      <th></th>\n",
       "      <th>air_store_id</th>\n",
       "      <th>visit_date</th>\n",
       "      <th>visitors</th>\n",
       "      <th>latitude</th>\n",
       "      <th>longitude</th>\n",
       "      <th>holiday_flg</th>\n",
       "      <th>month</th>\n",
       "      <th>day</th>\n",
       "      <th>Asian</th>\n",
       "      <th>Bar/Cocktail</th>\n",
       "      <th>...</th>\n",
       "      <th>Ōsaka-fu Ōsaka-shi Ōhiraki</th>\n",
       "      <th>Friday</th>\n",
       "      <th>Monday</th>\n",
       "      <th>Saturday</th>\n",
       "      <th>Sunday</th>\n",
       "      <th>Thursday</th>\n",
       "      <th>Tuesday</th>\n",
       "      <th>Wednesday</th>\n",
       "      <th>2016</th>\n",
       "      <th>2017</th>\n",
       "    </tr>\n",
       "  </thead>\n",
       "  <tbody>\n",
       "    <tr>\n",
       "      <th>0</th>\n",
       "      <td>air_ba937bf13d40fb24</td>\n",
       "      <td>2016-01-13</td>\n",
       "      <td>25</td>\n",
       "      <td>35.658068</td>\n",
       "      <td>139.751599</td>\n",
       "      <td>0</td>\n",
       "      <td>1</td>\n",
       "      <td>13</td>\n",
       "      <td>0</td>\n",
       "      <td>0</td>\n",
       "      <td>...</td>\n",
       "      <td>0</td>\n",
       "      <td>0</td>\n",
       "      <td>0</td>\n",
       "      <td>0</td>\n",
       "      <td>0</td>\n",
       "      <td>0</td>\n",
       "      <td>0</td>\n",
       "      <td>1</td>\n",
       "      <td>1</td>\n",
       "      <td>0</td>\n",
       "    </tr>\n",
       "    <tr>\n",
       "      <th>1</th>\n",
       "      <td>air_ba937bf13d40fb24</td>\n",
       "      <td>2016-01-14</td>\n",
       "      <td>32</td>\n",
       "      <td>35.658068</td>\n",
       "      <td>139.751599</td>\n",
       "      <td>0</td>\n",
       "      <td>1</td>\n",
       "      <td>14</td>\n",
       "      <td>0</td>\n",
       "      <td>0</td>\n",
       "      <td>...</td>\n",
       "      <td>0</td>\n",
       "      <td>0</td>\n",
       "      <td>0</td>\n",
       "      <td>0</td>\n",
       "      <td>0</td>\n",
       "      <td>1</td>\n",
       "      <td>0</td>\n",
       "      <td>0</td>\n",
       "      <td>1</td>\n",
       "      <td>0</td>\n",
       "    </tr>\n",
       "    <tr>\n",
       "      <th>2</th>\n",
       "      <td>air_ba937bf13d40fb24</td>\n",
       "      <td>2016-01-15</td>\n",
       "      <td>29</td>\n",
       "      <td>35.658068</td>\n",
       "      <td>139.751599</td>\n",
       "      <td>0</td>\n",
       "      <td>1</td>\n",
       "      <td>15</td>\n",
       "      <td>0</td>\n",
       "      <td>0</td>\n",
       "      <td>...</td>\n",
       "      <td>0</td>\n",
       "      <td>1</td>\n",
       "      <td>0</td>\n",
       "      <td>0</td>\n",
       "      <td>0</td>\n",
       "      <td>0</td>\n",
       "      <td>0</td>\n",
       "      <td>0</td>\n",
       "      <td>1</td>\n",
       "      <td>0</td>\n",
       "    </tr>\n",
       "    <tr>\n",
       "      <th>3</th>\n",
       "      <td>air_ba937bf13d40fb24</td>\n",
       "      <td>2016-01-16</td>\n",
       "      <td>22</td>\n",
       "      <td>35.658068</td>\n",
       "      <td>139.751599</td>\n",
       "      <td>0</td>\n",
       "      <td>1</td>\n",
       "      <td>16</td>\n",
       "      <td>0</td>\n",
       "      <td>0</td>\n",
       "      <td>...</td>\n",
       "      <td>0</td>\n",
       "      <td>0</td>\n",
       "      <td>0</td>\n",
       "      <td>1</td>\n",
       "      <td>0</td>\n",
       "      <td>0</td>\n",
       "      <td>0</td>\n",
       "      <td>0</td>\n",
       "      <td>1</td>\n",
       "      <td>0</td>\n",
       "    </tr>\n",
       "    <tr>\n",
       "      <th>4</th>\n",
       "      <td>air_ba937bf13d40fb24</td>\n",
       "      <td>2016-01-18</td>\n",
       "      <td>6</td>\n",
       "      <td>35.658068</td>\n",
       "      <td>139.751599</td>\n",
       "      <td>0</td>\n",
       "      <td>1</td>\n",
       "      <td>18</td>\n",
       "      <td>0</td>\n",
       "      <td>0</td>\n",
       "      <td>...</td>\n",
       "      <td>0</td>\n",
       "      <td>0</td>\n",
       "      <td>1</td>\n",
       "      <td>0</td>\n",
       "      <td>0</td>\n",
       "      <td>0</td>\n",
       "      <td>0</td>\n",
       "      <td>0</td>\n",
       "      <td>1</td>\n",
       "      <td>0</td>\n",
       "    </tr>\n",
       "  </tbody>\n",
       "</table>\n",
       "<p>5 rows × 134 columns</p>\n",
       "</div>"
      ],
      "text/plain": [
       "           air_store_id  visit_date  visitors   latitude   longitude  \\\n",
       "0  air_ba937bf13d40fb24  2016-01-13        25  35.658068  139.751599   \n",
       "1  air_ba937bf13d40fb24  2016-01-14        32  35.658068  139.751599   \n",
       "2  air_ba937bf13d40fb24  2016-01-15        29  35.658068  139.751599   \n",
       "3  air_ba937bf13d40fb24  2016-01-16        22  35.658068  139.751599   \n",
       "4  air_ba937bf13d40fb24  2016-01-18         6  35.658068  139.751599   \n",
       "\n",
       "   holiday_flg  month  day  Asian  Bar/Cocktail  ...   \\\n",
       "0            0      1   13      0             0  ...    \n",
       "1            0      1   14      0             0  ...    \n",
       "2            0      1   15      0             0  ...    \n",
       "3            0      1   16      0             0  ...    \n",
       "4            0      1   18      0             0  ...    \n",
       "\n",
       "   Ōsaka-fu Ōsaka-shi Ōhiraki  Friday  Monday  Saturday  Sunday  Thursday  \\\n",
       "0                           0       0       0         0       0         0   \n",
       "1                           0       0       0         0       0         1   \n",
       "2                           0       1       0         0       0         0   \n",
       "3                           0       0       0         1       0         0   \n",
       "4                           0       0       1         0       0         0   \n",
       "\n",
       "   Tuesday  Wednesday  2016  2017  \n",
       "0        0          1     1     0  \n",
       "1        0          0     1     0  \n",
       "2        0          0     1     0  \n",
       "3        0          0     1     0  \n",
       "4        0          0     1     0  \n",
       "\n",
       "[5 rows x 134 columns]"
      ]
     },
     "execution_count": 106,
     "metadata": {},
     "output_type": "execute_result"
    }
   ],
   "source": [
    "# Merge the 'air_store_info' and 'date_info' into the total_dataset, \n",
    "# and transform the datetime information into year, month and date\n",
    "\n",
    "total_dataset = pd.merge(total_dataset, df['air_store_info'], how='left', on='air_store_id')\n",
    "total_dataset = pd.merge(total_dataset, df['date_info'], how='left', on='visit_date')\n",
    "total_dataset['visit_datetime'] = pd.to_datetime(total_dataset['visit_date'])\n",
    "total_dataset['year']  = total_dataset['visit_datetime'].dt.year\n",
    "total_dataset['month'] = total_dataset['visit_datetime'].dt.month\n",
    "total_dataset['day']   = total_dataset['visit_datetime'].dt.day\n",
    "total_dataset.drop('visit_datetime', axis=1, inplace=True)\n",
    "\n",
    "# One Hot Encoding Conversion of the 'air_genre_name', 'air_area_name', 'day_of_week', 'year' using the pandas.get_dummies \n",
    "\n",
    "cat_features = [col for col in ['air_genre_name', 'air_area_name', 'day_of_week', 'year']]\n",
    "for column in cat_features:\n",
    "    temp = pd.get_dummies(pd.Series(total_dataset[column]))\n",
    "    total_dataset = pd.concat([total_dataset,temp],axis=1)\n",
    "    total_dataset = total_dataset.drop([column],axis=1)\n",
    "    \n",
    "total_dataset.head()"
   ]
  },
  {
   "cell_type": "code",
   "execution_count": 93,
   "metadata": {
    "collapsed": false
   },
   "outputs": [
    {
     "data": {
      "text/plain": [
       "\"\\nimport pandas as pd, numpy as np, matplotlib.pyplot as plt\\nfrom sklearn.cluster import DBSCAN\\n#from geopy.distance import great_circle\\n#from shapely.geometry import MultiPoint\\n\\ncoords =total_dataset.as_matrix(columns=['latitude', 'longitude'])\\n#coords = total_dataset.as_matrix(columns=['latitude', 'longitude'])\\n#pd.unique(total_dataset['latitude', 'longitude'])\\nprint(len(coords))\\n\""
      ]
     },
     "execution_count": 93,
     "metadata": {},
     "output_type": "execute_result"
    }
   ],
   "source": [
    "# The information of latitude and longtitude is more or less overlapping with the air_area_name, \n",
    "# I actually tested both with or without the location information and found it's not necessary\n",
    "# to keep them in the total_dataset. \n",
    "# However, it dones't hurt to show how to cluster the latitude and longtitude and include them in the total_dataset as below.\n",
    "# The method of clustering the locations of the restaurants was from 'Clustering to Reduce Spatial Data Set Size'\n",
    "# http://geoffboeing.com/2014/08/clustering-to-reduce-spatial-data-set-size/\n",
    "\n",
    "\"\"\"\n",
    "import pandas as pd, numpy as np, matplotlib.pyplot as plt\n",
    "from sklearn.cluster import DBSCAN\n",
    "#from geopy.distance import great_circle\n",
    "#from shapely.geometry import MultiPoint\n",
    "\n",
    "coords =total_dataset.as_matrix(columns=['latitude', 'longitude'])\n",
    "#coords = total_dataset.as_matrix(columns=['latitude', 'longitude'])\n",
    "#pd.unique(total_dataset['latitude', 'longitude'])\n",
    "print(len(coords))\n",
    "\"\"\""
   ]
  },
  {
   "cell_type": "code",
   "execution_count": 91,
   "metadata": {
    "collapsed": false
   },
   "outputs": [
    {
     "data": {
      "text/plain": [
       "\"\\nkms_per_radian = 6371.0088\\nepsilon = 1.5 / kms_per_radian\\ndb = DBSCAN(eps=epsilon, min_samples=3000, algorithm='ball_tree', metric='haversine').fit(np.radians(coords))\\ncluster_labels = db.labels_\\nnum_clusters = len(set(cluster_labels))\\nclusters = pd.Series([coords[cluster_labels == n] for n in range(num_clusters)])\\nprint('Number of clusters: {}'.format(num_clusters))\\nprint(len(cluster_labels))\\n\""
      ]
     },
     "execution_count": 91,
     "metadata": {},
     "output_type": "execute_result"
    }
   ],
   "source": [
    "'''\n",
    "kms_per_radian = 6371.0088\n",
    "epsilon = 1.5 / kms_per_radian\n",
    "db = DBSCAN(eps=epsilon, min_samples=3000, algorithm='ball_tree', metric='haversine').fit(np.radians(coords))\n",
    "cluster_labels = db.labels_\n",
    "num_clusters = len(set(cluster_labels))\n",
    "clusters = pd.Series([coords[cluster_labels == n] for n in range(num_clusters)])\n",
    "print('Number of clusters: {}'.format(num_clusters))\n",
    "print(len(cluster_labels))\n",
    "'''"
   ]
  },
  {
   "cell_type": "code",
   "execution_count": 107,
   "metadata": {
    "collapsed": false
   },
   "outputs": [
    {
     "data": {
      "text/html": [
       "<div>\n",
       "<style scoped>\n",
       "    .dataframe tbody tr th:only-of-type {\n",
       "        vertical-align: middle;\n",
       "    }\n",
       "\n",
       "    .dataframe tbody tr th {\n",
       "        vertical-align: top;\n",
       "    }\n",
       "\n",
       "    .dataframe thead th {\n",
       "        text-align: right;\n",
       "    }\n",
       "</style>\n",
       "<table border=\"1\" class=\"dataframe\">\n",
       "  <thead>\n",
       "    <tr style=\"text-align: right;\">\n",
       "      <th></th>\n",
       "      <th>air_store_id</th>\n",
       "      <th>visit_date</th>\n",
       "      <th>visitors</th>\n",
       "      <th>holiday_flg</th>\n",
       "      <th>month</th>\n",
       "      <th>day</th>\n",
       "      <th>Asian</th>\n",
       "      <th>Bar/Cocktail</th>\n",
       "      <th>Cafe/Sweets</th>\n",
       "      <th>Creative cuisine</th>\n",
       "      <th>...</th>\n",
       "      <th>air_fd6aac1043520e83</th>\n",
       "      <th>air_fdc02ec4a3d21ea4</th>\n",
       "      <th>air_fdcfef8bd859f650</th>\n",
       "      <th>air_fe22ef5a9cbef123</th>\n",
       "      <th>air_fe58c074ec1445ea</th>\n",
       "      <th>air_fea5dc9594450608</th>\n",
       "      <th>air_fee8dcf4d619598e</th>\n",
       "      <th>air_fef9ccb3ba0da2f7</th>\n",
       "      <th>air_ffcc2d5087e1b476</th>\n",
       "      <th>air_fff68b929994bfbd</th>\n",
       "    </tr>\n",
       "  </thead>\n",
       "  <tbody>\n",
       "    <tr>\n",
       "      <th>0</th>\n",
       "      <td>air_ba937bf13d40fb24</td>\n",
       "      <td>2016-01-13</td>\n",
       "      <td>25</td>\n",
       "      <td>0</td>\n",
       "      <td>1</td>\n",
       "      <td>13</td>\n",
       "      <td>0</td>\n",
       "      <td>0</td>\n",
       "      <td>0</td>\n",
       "      <td>0</td>\n",
       "      <td>...</td>\n",
       "      <td>0</td>\n",
       "      <td>0</td>\n",
       "      <td>0</td>\n",
       "      <td>0</td>\n",
       "      <td>0</td>\n",
       "      <td>0</td>\n",
       "      <td>0</td>\n",
       "      <td>0</td>\n",
       "      <td>0</td>\n",
       "      <td>0</td>\n",
       "    </tr>\n",
       "    <tr>\n",
       "      <th>1</th>\n",
       "      <td>air_ba937bf13d40fb24</td>\n",
       "      <td>2016-01-14</td>\n",
       "      <td>32</td>\n",
       "      <td>0</td>\n",
       "      <td>1</td>\n",
       "      <td>14</td>\n",
       "      <td>0</td>\n",
       "      <td>0</td>\n",
       "      <td>0</td>\n",
       "      <td>0</td>\n",
       "      <td>...</td>\n",
       "      <td>0</td>\n",
       "      <td>0</td>\n",
       "      <td>0</td>\n",
       "      <td>0</td>\n",
       "      <td>0</td>\n",
       "      <td>0</td>\n",
       "      <td>0</td>\n",
       "      <td>0</td>\n",
       "      <td>0</td>\n",
       "      <td>0</td>\n",
       "    </tr>\n",
       "    <tr>\n",
       "      <th>2</th>\n",
       "      <td>air_ba937bf13d40fb24</td>\n",
       "      <td>2016-01-15</td>\n",
       "      <td>29</td>\n",
       "      <td>0</td>\n",
       "      <td>1</td>\n",
       "      <td>15</td>\n",
       "      <td>0</td>\n",
       "      <td>0</td>\n",
       "      <td>0</td>\n",
       "      <td>0</td>\n",
       "      <td>...</td>\n",
       "      <td>0</td>\n",
       "      <td>0</td>\n",
       "      <td>0</td>\n",
       "      <td>0</td>\n",
       "      <td>0</td>\n",
       "      <td>0</td>\n",
       "      <td>0</td>\n",
       "      <td>0</td>\n",
       "      <td>0</td>\n",
       "      <td>0</td>\n",
       "    </tr>\n",
       "    <tr>\n",
       "      <th>3</th>\n",
       "      <td>air_ba937bf13d40fb24</td>\n",
       "      <td>2016-01-16</td>\n",
       "      <td>22</td>\n",
       "      <td>0</td>\n",
       "      <td>1</td>\n",
       "      <td>16</td>\n",
       "      <td>0</td>\n",
       "      <td>0</td>\n",
       "      <td>0</td>\n",
       "      <td>0</td>\n",
       "      <td>...</td>\n",
       "      <td>0</td>\n",
       "      <td>0</td>\n",
       "      <td>0</td>\n",
       "      <td>0</td>\n",
       "      <td>0</td>\n",
       "      <td>0</td>\n",
       "      <td>0</td>\n",
       "      <td>0</td>\n",
       "      <td>0</td>\n",
       "      <td>0</td>\n",
       "    </tr>\n",
       "    <tr>\n",
       "      <th>4</th>\n",
       "      <td>air_ba937bf13d40fb24</td>\n",
       "      <td>2016-01-18</td>\n",
       "      <td>6</td>\n",
       "      <td>0</td>\n",
       "      <td>1</td>\n",
       "      <td>18</td>\n",
       "      <td>0</td>\n",
       "      <td>0</td>\n",
       "      <td>0</td>\n",
       "      <td>0</td>\n",
       "      <td>...</td>\n",
       "      <td>0</td>\n",
       "      <td>0</td>\n",
       "      <td>0</td>\n",
       "      <td>0</td>\n",
       "      <td>0</td>\n",
       "      <td>0</td>\n",
       "      <td>0</td>\n",
       "      <td>0</td>\n",
       "      <td>0</td>\n",
       "      <td>0</td>\n",
       "    </tr>\n",
       "  </tbody>\n",
       "</table>\n",
       "<p>5 rows × 961 columns</p>\n",
       "</div>"
      ],
      "text/plain": [
       "           air_store_id  visit_date  visitors  holiday_flg  month  day  Asian  \\\n",
       "0  air_ba937bf13d40fb24  2016-01-13        25            0      1   13      0   \n",
       "1  air_ba937bf13d40fb24  2016-01-14        32            0      1   14      0   \n",
       "2  air_ba937bf13d40fb24  2016-01-15        29            0      1   15      0   \n",
       "3  air_ba937bf13d40fb24  2016-01-16        22            0      1   16      0   \n",
       "4  air_ba937bf13d40fb24  2016-01-18         6            0      1   18      0   \n",
       "\n",
       "   Bar/Cocktail  Cafe/Sweets  Creative cuisine          ...           \\\n",
       "0             0            0                 0          ...            \n",
       "1             0            0                 0          ...            \n",
       "2             0            0                 0          ...            \n",
       "3             0            0                 0          ...            \n",
       "4             0            0                 0          ...            \n",
       "\n",
       "   air_fd6aac1043520e83  air_fdc02ec4a3d21ea4  air_fdcfef8bd859f650  \\\n",
       "0                     0                     0                     0   \n",
       "1                     0                     0                     0   \n",
       "2                     0                     0                     0   \n",
       "3                     0                     0                     0   \n",
       "4                     0                     0                     0   \n",
       "\n",
       "   air_fe22ef5a9cbef123  air_fe58c074ec1445ea  air_fea5dc9594450608  \\\n",
       "0                     0                     0                     0   \n",
       "1                     0                     0                     0   \n",
       "2                     0                     0                     0   \n",
       "3                     0                     0                     0   \n",
       "4                     0                     0                     0   \n",
       "\n",
       "   air_fee8dcf4d619598e  air_fef9ccb3ba0da2f7  air_ffcc2d5087e1b476  \\\n",
       "0                     0                     0                     0   \n",
       "1                     0                     0                     0   \n",
       "2                     0                     0                     0   \n",
       "3                     0                     0                     0   \n",
       "4                     0                     0                     0   \n",
       "\n",
       "   air_fff68b929994bfbd  \n",
       "0                     0  \n",
       "1                     0  \n",
       "2                     0  \n",
       "3                     0  \n",
       "4                     0  \n",
       "\n",
       "[5 rows x 961 columns]"
      ]
     },
     "execution_count": 107,
     "metadata": {},
     "output_type": "execute_result"
    }
   ],
   "source": [
    "# One Hot Encoding Conversion use the pandas.get_dummies\n",
    "# https://pandas.pydata.org/pandas-docs/stable/generated/pandas.get_dummies.html\n",
    "    \n",
    "# total_dataset = pd.concat([total_dataset, pd.get_dummies(cluster_labels, prefix='loc')], axis = 1)\n",
    "total_dataset.drop(['latitude', 'longitude'], axis = 1, inplace = True)\n",
    "temp = pd.get_dummies(total_dataset['air_store_id'])\n",
    "total_dataset = pd.concat([total_dataset,temp],axis=1)\n",
    "total_dataset.head()"
   ]
  },
  {
   "cell_type": "code",
   "execution_count": 108,
   "metadata": {
    "collapsed": false
   },
   "outputs": [
    {
     "name": "stdout",
     "output_type": "stream",
     "text": [
      "252108\n",
      "32019\n"
     ]
    }
   ],
   "source": [
    "sep = len(df['air_visit_data'])\n",
    "train = total_dataset[:sep]\n",
    "to_predict = total_dataset[sep:]\n",
    "print(len(train))\n",
    "print(len(to_predict))"
   ]
  },
  {
   "cell_type": "code",
   "execution_count": 94,
   "metadata": {
    "collapsed": true
   },
   "outputs": [],
   "source": [
    "# Just in case the data set need to be saved, the following code would be used.\n",
    "\n",
    "# train.to_csv('train.csv', encoding='utf-8', index=False)\n",
    "# to_predict.to_csv('to_predict.csv', encoding='utf-8', index=False)"
   ]
  },
  {
   "cell_type": "code",
   "execution_count": 2,
   "metadata": {
    "collapsed": true
   },
   "outputs": [],
   "source": [
    "# To retrieve the data\n",
    "\n",
    "# train = pd.read_csv('train.csv')\n",
    "# to_predict = pd.read_csv('to_predict.csv')\n",
    "# total_dataset = pd.read_csv('total_dataset.csv')\n"
   ]
  },
  {
   "cell_type": "markdown",
   "metadata": {},
   "source": [
    "## Part 2. Train the data with Keras model "
   ]
  },
  {
   "cell_type": "code",
   "execution_count": 109,
   "metadata": {
    "collapsed": true
   },
   "outputs": [],
   "source": [
    "# The RMSLE is required for the evaluation\n",
    "\n",
    "import pandas as pd\n",
    "import numpy as np\n",
    "from sklearn.metrics import mean_squared_error\n",
    "def RMSLE(y, pred):\n",
    "    return mean_squared_error(y, pred)**0.5 "
   ]
  },
  {
   "cell_type": "code",
   "execution_count": 110,
   "metadata": {
    "collapsed": false
   },
   "outputs": [
    {
     "name": "stdout",
     "output_type": "stream",
     "text": [
      "(252108, 958)\n",
      "(252108,)\n",
      "(32019, 958)\n"
     ]
    }
   ],
   "source": [
    "# Get the matrix needed for the keras model \n",
    "\n",
    "col = [c for c in train if c not in ['air_store_id', 'visit_date', 'visitors']]\n",
    "X_train, y_train = train[col], train['visitors']\n",
    "X_to_predict = to_predict[col]\n",
    "value_X = X_train.values\n",
    "value_y = y_train.values\n",
    "value_X_to_predict = X_to_predict.values\n",
    "print(value_X.shape)\n",
    "print(value_y.shape)\n",
    "print(value_X_to_predict.shape)"
   ]
  },
  {
   "cell_type": "code",
   "execution_count": 111,
   "metadata": {
    "collapsed": false
   },
   "outputs": [
    {
     "name": "stderr",
     "output_type": "stream",
     "text": [
      "c:\\program files\\python35\\lib\\site-packages\\sklearn\\utils\\validation.py:475: DataConversionWarning: Data with input dtype int64 was converted to float64 by MinMaxScaler.\n",
      "  warnings.warn(msg, DataConversionWarning)\n"
     ]
    }
   ],
   "source": [
    "# Normalize the data\n",
    "\n",
    "from sklearn.preprocessing import MinMaxScaler\n",
    "\n",
    "scaler_X = MinMaxScaler(feature_range=(0, 1))\n",
    "scaled_X = scaler_X.fit_transform(value_X)\n",
    "scaled_X_to_predict = scaler_X.transform(value_X_to_predict)\n",
    "# scaler_y = MinMaxScaler(feature_range=(0, 1))\n",
    "# value_y = value_y.reshape((len(value_y), 1))\n",
    "# scaled_y = scaler_y.fit_transform(value_y)"
   ]
  },
  {
   "cell_type": "code",
   "execution_count": 112,
   "metadata": {
    "collapsed": true
   },
   "outputs": [],
   "source": [
    "# Split the data\n",
    "\n",
    "from sklearn.cross_validation import train_test_split\n",
    "\n",
    "X_train, X_test, y_train, y_test = train_test_split(scaled_X, value_y, test_size=0.3, random_state=42)"
   ]
  },
  {
   "cell_type": "code",
   "execution_count": 113,
   "metadata": {
    "collapsed": false
   },
   "outputs": [
    {
     "name": "stdout",
     "output_type": "stream",
     "text": [
      "dense_13 (None, 958) (None, 512)\n",
      "dense_14 (None, 512) (None, 256)\n",
      "dense_15 (None, 256) (None, 128)\n",
      "dense_16 (None, 128) (None, 32)\n",
      "dense_17 (None, 32) (None, 1)\n"
     ]
    }
   ],
   "source": [
    "# Initial Setup for Keras\n",
    "from keras.models import Sequential\n",
    "from keras import optimizers, regularizers\n",
    "from keras.layers import Dense, Input, Activation, Dropout\n",
    "\n",
    "# Build the Neural Network in Keras\n",
    "model = Sequential()\n",
    "model.add(Dense(512, activation = 'relu', input_shape=(958,)))\n",
    "model.add(Dense(256, activation = 'relu', input_shape=(958,)))\n",
    "model.add(Dense(128, activation='relu'))\n",
    "model.add(Dense(32, activation='relu'))\n",
    "model.add(Dense(1, activation='relu'))\n",
    "\n",
    "sgd = optimizers.SGD(lr=0.005, decay=1e-6, momentum=0.9, nesterov=False)\n",
    "\n",
    "model.compile(loss='mean_squared_error', optimizer=sgd)\n",
    "\n",
    "for l in model.layers:\n",
    "    print(l.name, l.input_shape, l.output_shape)"
   ]
  },
  {
   "cell_type": "code",
   "execution_count": 114,
   "metadata": {
    "collapsed": false
   },
   "outputs": [
    {
     "name": "stdout",
     "output_type": "stream",
     "text": [
      "Train on 176475 samples, validate on 75633 samples\n",
      "Epoch 1/20\n",
      "176475/176475 [==============================] - 40s 225us/step - loss: 0.5468 - val_loss: 0.3441\n",
      "Epoch 2/20\n",
      "176475/176475 [==============================] - 36s 202us/step - loss: 0.3231 - val_loss: 0.3058\n",
      "Epoch 3/20\n",
      "176475/176475 [==============================] - 29s 167us/step - loss: 0.2999 - val_loss: 0.2915\n",
      "Epoch 4/20\n",
      "176475/176475 [==============================] - 28s 160us/step - loss: 0.2866 - val_loss: 0.2904\n",
      "Epoch 5/20\n",
      "176475/176475 [==============================] - 29s 162us/step - loss: 0.2783 - val_loss: 0.2788\n",
      "Epoch 6/20\n",
      "176475/176475 [==============================] - 28s 161us/step - loss: 0.2723 - val_loss: 0.2930\n",
      "Epoch 7/20\n",
      "176475/176475 [==============================] - 31s 176us/step - loss: 0.2662 - val_loss: 0.2929\n",
      "Epoch 8/20\n",
      "176475/176475 [==============================] - 34s 194us/step - loss: 0.2623 - val_loss: 0.2721\n",
      "Epoch 9/20\n",
      "176475/176475 [==============================] - 31s 174us/step - loss: 0.2590 - val_loss: 0.2717\n",
      "Epoch 10/20\n",
      "176475/176475 [==============================] - 28s 161us/step - loss: 0.2557 - val_loss: 0.2715\n",
      "Epoch 11/20\n",
      "176475/176475 [==============================] - 28s 160us/step - loss: 0.2543 - val_loss: 0.2728\n",
      "Epoch 12/20\n",
      "176475/176475 [==============================] - 28s 160us/step - loss: 0.2503 - val_loss: 0.2699\n",
      "Epoch 13/20\n",
      "176475/176475 [==============================] - 28s 160us/step - loss: 0.2485 - val_loss: 0.2718\n",
      "Epoch 14/20\n",
      "176475/176475 [==============================] - 28s 160us/step - loss: 0.2465 - val_loss: 0.2681\n",
      "Epoch 15/20\n",
      "176475/176475 [==============================] - 28s 160us/step - loss: 0.2447 - val_loss: 0.2668\n",
      "Epoch 16/20\n",
      "176475/176475 [==============================] - 28s 160us/step - loss: 0.2416 - val_loss: 0.2792\n",
      "Epoch 17/20\n",
      "176475/176475 [==============================] - 28s 160us/step - loss: 0.2405 - val_loss: 0.2653\n",
      "Epoch 18/20\n",
      "176475/176475 [==============================] - 35s 196us/step - loss: 0.2386 - val_loss: 0.2655\n",
      "Epoch 19/20\n",
      "176475/176475 [==============================] - 36s 205us/step - loss: 0.2366 - val_loss: 0.2732\n",
      "Epoch 20/20\n",
      "176475/176475 [==============================] - 45s 253us/step - loss: 0.2358 - val_loss: 0.2671\n"
     ]
    }
   ],
   "source": [
    "history = model.fit(X_train, np.log1p(y_train), batch_size = 128, epochs=20,\n",
    "                    validation_data=(X_test, np.log1p(y_test)), verbose=1)"
   ]
  },
  {
   "cell_type": "code",
   "execution_count": 115,
   "metadata": {
    "collapsed": false
   },
   "outputs": [
    {
     "name": "stdout",
     "output_type": "stream",
     "text": [
      "Test RMSLE: 0.517\n"
     ]
    }
   ],
   "source": [
    "# Evaluate the model with RMSLE\n",
    "y_ = model.predict(X_test)\n",
    "y_test = y_test.reshape(-1, 1)\n",
    "rmsle = RMSLE(np.log1p(y_test), y_)\n",
    "print('Test RMSLE: %.3f' % rmsle)"
   ]
  },
  {
   "cell_type": "code",
   "execution_count": 116,
   "metadata": {
    "collapsed": true
   },
   "outputs": [],
   "source": [
    "# Predict the visitors and generate the file for submission\n",
    "\n",
    "y_predicted = np.expm1(model.predict(scaled_X_to_predict))\n",
    "\n",
    "submit = pd.read_csv('sample_submission.csv')\n",
    "\n",
    "submit['visitors'] = y_predicted\n",
    "\n",
    "submit.to_csv('to_submit.csv', encoding='utf-8', index=False)"
   ]
  },
  {
   "cell_type": "code",
   "execution_count": null,
   "metadata": {
    "collapsed": true
   },
   "outputs": [],
   "source": []
  }
 ],
 "metadata": {
  "anaconda-cloud": {},
  "kernelspec": {
   "display_name": "Python [default]",
   "language": "python",
   "name": "python3"
  },
  "language_info": {
   "codemirror_mode": {
    "name": "ipython",
    "version": 3
   },
   "file_extension": ".py",
   "mimetype": "text/x-python",
   "name": "python",
   "nbconvert_exporter": "python",
   "pygments_lexer": "ipython3",
   "version": "3.5.2"
  }
 },
 "nbformat": 4,
 "nbformat_minor": 1
}
